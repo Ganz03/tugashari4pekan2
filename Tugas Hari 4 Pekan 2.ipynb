{
  "cells": [
    {
      "cell_type": "markdown",
      "metadata": {
        "id": "7bOZ5F8GOmQZ"
      },
      "source": [
        "# Data Merging"
      ]
    },
    {
      "cell_type": "markdown",
      "metadata": {
        "id": "Kn2L7gz1Cjak"
      },
      "source": [
        "<h2>Soal 1: Penggabungan Data</h2>\n",
        "\n",
        "- Sebutkan perbedaan antara full outer join, inner join, dan left join"
      ]
    },
    {
      "cell_type": "markdown",
      "metadata": {
        "id": "b_pAgPNYOqpa"
      },
      "source": [
        "inner join:Inner Join menggabungkan baris-baris yang memiliki nilai yang sesuai di kedua tabel yang dijoin.\n",
        "left join: Left Join menggabungkan semua baris dari tabel yang pertama (tabel kiri) dengan baris-baris yang memiliki nilai yang sesuai dari tabel kedua (tabel kanan).\n",
        "full outer join:Full Outer Join menggabungkan semua baris dari kedua tabel, termasuk baris-baris yang memiliki nilai yang sesuai dan yang tidak memiliki nilai yang sesuai di kedua tabel."
      ]
    },
    {
      "cell_type": "markdown",
      "metadata": {
        "id": "H8k-jVewCjax"
      },
      "source": [
        "<h2>Soal 2: Penggabungan Data</h2>\n",
        "\n",
        "Pada quiz no 2 ini gunakan data [names1881.csv](https://drive.google.com/uc?export=download&id=1Pwu3cv93hI79jmi52kJ05xhophknDKat) dan [names1981.csv](https://drive.google.com/uc?export=download&id=1pvsGaybr423hJXcN35e5nS3sg4ha4jo3), data ini berisi nama bayi yang lahir pada tahun 1881 atau 1981 di Amerika.\n",
        "\n",
        "- Baca data tersebut dengan memberikan nama column 'Name', 'Gender', 'Count'.\n",
        "- Tunjukan jumlah dimensi dari data 'names1881.csv' dan 'names1981.csv'\n",
        "- Gabungkan kedua data tersebut berdasarkan sumbu baris\n",
        "- Tunjukan jumlah dimensi dari data setelah di gabungkan."
      ]
    },
    {
      "cell_type": "code",
      "execution_count": 1,
      "metadata": {
        "id": "8si0JGpXPCNx"
      },
      "outputs": [
        {
          "name": "stdout",
          "output_type": "stream",
          "text": [
            "Jumlah dimensi data 'names1881.csv': (1935, 3)\n",
            "Jumlah dimensi data 'names1981.csv': (19455, 3)\n",
            "            Name Gender  Count\n",
            "0           Mary      F   6919\n",
            "1           Anna      F   2698\n",
            "2           Emma      F   2034\n",
            "3      Elizabeth      F   1852\n",
            "4       Margaret      F   1658\n",
            "...          ...    ...    ...\n",
            "19450   Zeferino      M      5\n",
            "19451    Zerrick      M      5\n",
            "19452   Zimbabwe      M      5\n",
            "19453     Zoltan      M      5\n",
            "19454     Zuriel      M      5\n",
            "\n",
            "[21390 rows x 3 columns]\n",
            "Jumlah dimensi data setelah digabungkan: (21390, 3)\n"
          ]
        }
      ],
      "source": [
        "import pandas as pd\n",
        "\n",
        "\n",
        "data1881 = pd.read_csv('names1881.csv', names=['Name', 'Gender', 'Count'])\n",
        "data1981 = pd.read_csv('names1981.csv', names=['Name', 'Gender', 'Count'])\n",
        "\n",
        "dimensi_data1881 = data1881.shape\n",
        "print(f\"Jumlah dimensi data 'names1881.csv': {dimensi_data1881}\")\n",
        "\n",
        "\n",
        "dimensi_data1981 = data1981.shape\n",
        "print(f\"Jumlah dimensi data 'names1981.csv': {dimensi_data1981}\")\n",
        "\n",
        "\n",
        "# gabungkan data\n",
        "merged_data = pd.concat([data1881, data1981])\n",
        "print(merged_data)\n",
        "\n",
        "dimensi_setelah_gabung = merged_data.shape\n",
        "print(f\"Jumlah dimensi data setelah digabungkan: {dimensi_setelah_gabung}\")"
      ]
    },
    {
      "cell_type": "markdown",
      "metadata": {
        "id": "vxp88Xe5CjbF"
      },
      "source": [
        "Expected Result: \n",
        "\n",
        "Jumlah Dimensi data 'names1881.csv': \n",
        "\n",
        "(1935, 3)\n",
        "\n",
        "Jumlah Baris data 'names1981.csv':\n",
        "\n",
        "(19455, 3)\n",
        "\n",
        "![alt text](https://drive.google.com/uc?id=1jMCAdLrcJubjufydZBnzdQkYqDS3Klat)\n",
        "\n",
        "Jumlah dimensi data setelah penggabungan : \n",
        "\n",
        "(21390, 3)"
      ]
    },
    {
      "cell_type": "markdown",
      "metadata": {
        "id": "yALBDvlQCjbJ"
      },
      "source": [
        "<h2>Soal 3: Penggabungan Data</h2>\n",
        "\n",
        "Lakukan jenis penggabungan data full outer join, inner join, left outer join dan right outer join pada kedua data berikut: "
      ]
    },
    {
      "cell_type": "code",
      "execution_count": 2,
      "metadata": {
        "colab": {
          "base_uri": "https://localhost:8080/"
        },
        "id": "GQtYaV1gCjbM",
        "outputId": "ac09563e-785a-478e-b90e-7dae0e86667a"
      },
      "outputs": [
        {
          "name": "stdout",
          "output_type": "stream",
          "text": [
            "Full Outer Join:\n",
            "   id Feature1 Feature2 Feature3\n",
            "0   1       a1       b1      NaN\n",
            "1   2       a2       b2      NaN\n",
            "2   3       a3       b3       c1\n",
            "3   4       a4       b4       c2\n",
            "4   5      NaN      NaN       c3\n",
            "5   6      NaN      NaN       c4\n",
            "6   7      NaN      NaN       c5\n",
            "\n",
            "Inner Join:\n",
            "   id Feature1 Feature2 Feature3\n",
            "0   3       a3       b3       c1\n",
            "1   4       a4       b4       c2\n",
            "\n",
            "Left Outer Join:\n",
            "   id Feature1 Feature2 Feature3\n",
            "0   1       a1       b1      NaN\n",
            "1   2       a2       b2      NaN\n",
            "2   3       a3       b3       c1\n",
            "3   4       a4       b4       c2\n",
            "\n",
            "Right Outer Join:\n",
            "   id Feature1 Feature2 Feature3\n",
            "0   3       a3       b3       c1\n",
            "1   4       a4       b4       c2\n",
            "2   5      NaN      NaN       c3\n",
            "3   6      NaN      NaN       c4\n",
            "4   7      NaN      NaN       c5\n"
          ]
        }
      ],
      "source": [
        "import pandas as pd\n",
        "\n",
        "data1 = {\n",
        "    'id': [1, 2, 3, 4],\n",
        "    'Feature1': ['a1', 'a2', 'a3', 'a4'],\n",
        "    'Feature2': ['b1', 'b2', 'b3', 'b4']\n",
        "}\n",
        "\n",
        "data2 = {\n",
        "    'id': [3, 4, 5, 6, 7],\n",
        "    'Feature3': ['c1', 'c2', 'c3', 'c4', 'c5']\n",
        "}\n",
        "\n",
        "# Buat DataFrame dari data1 dan data2\n",
        "df1 = pd.DataFrame(data1)\n",
        "df2 = pd.DataFrame(data2)\n",
        "\n",
        "# Full Outer Join\n",
        "full_outer_join = pd.merge(df1, df2, on='id', how='outer')\n",
        "print(\"Full Outer Join:\")\n",
        "print(full_outer_join)\n",
        "\n",
        "# Inner Join\n",
        "inner_join = pd.merge(df1, df2, on='id', how='inner')\n",
        "print(\"\\nInner Join:\")\n",
        "print(inner_join)\n",
        "\n",
        "# Left Outer Join\n",
        "left_outer_join = pd.merge(df1, df2, on='id', how='left')\n",
        "print(\"\\nLeft Outer Join:\")\n",
        "print(left_outer_join)\n",
        "\n",
        "# Right Outer Join\n",
        "right_outer_join = pd.merge(df1, df2, on='id', how='right')\n",
        "print(\"\\nRight Outer Join:\")\n",
        "print(right_outer_join)"
      ]
    },
    {
      "cell_type": "code",
      "execution_count": null,
      "metadata": {
        "id": "B88bxv0jPG_J"
      },
      "outputs": [],
      "source": [
        "#join data\n",
        "df_outer_join =\n",
        "print(df_outer_join)\n",
        "\n",
        "df_inner_join =\n",
        "print(df_inner_join)\n",
        "\n",
        "df_left_join =\n",
        "print(df_left_join)\n",
        "\n",
        "df_right_join =\n",
        "print(df_right_join)"
      ]
    },
    {
      "cell_type": "markdown",
      "metadata": {
        "id": "p2YbxGt8Cjb1"
      },
      "source": [
        "Expected Result:\n",
        "\n",
        "![alt text](https://drive.google.com/uc?id=1kUpkzWh3Y-X_1H1QXHiccdHf4YjqXsDu)\n",
        "\n",
        "![alt text](https://drive.google.com/uc?id=1ojoAC2oX9P3ZHl0lS3RXipd7gShLOmmC)\n",
        "\n",
        "![alt text](https://drive.google.com/uc?id=12jDnQzIosn6dizVwl2nPMX1IhhyEZ4FA)\n",
        "\n",
        "![alt text](https://drive.google.com/uc?id=11znqscNsVZ-cHY-PPgoHEBDWyc6XRtAL)"
      ]
    },
    {
      "cell_type": "markdown",
      "metadata": {
        "id": "2hfhFcsACjb4"
      },
      "source": [
        "<h2>Soal 4: Penggabungan Data berbeda label column Key</h2>\n",
        "\n",
        "Lakukan jenis penggabungan inner join untuk 2 data yang memiliki nama column key yang berbeda ini:"
      ]
    },
    {
      "cell_type": "code",
      "execution_count": 3,
      "metadata": {
        "colab": {
          "base_uri": "https://localhost:8080/"
        },
        "id": "9eE1RWfKCjb9",
        "outputId": "58b2d1dc-2f5e-45a5-ae19-25ec401a7369"
      },
      "outputs": [
        {
          "name": "stdout",
          "output_type": "stream",
          "text": [
            "Inner Join:\n",
            "   key_data1 Feature1 Feature2  key_data2 Feature3\n",
            "0          3       a3       b3          3       c1\n",
            "1          4       a4       b4          4       c2\n"
          ]
        }
      ],
      "source": [
        "import pandas as pd\n",
        "\n",
        "data1 = {\n",
        "    'key_data1': [1, 2, 3, 4],\n",
        "    'Feature1': ['a1', 'a2', 'a3', 'a4'],\n",
        "    'Feature2': ['b1', 'b2', 'b3', 'b4']\n",
        "}\n",
        "\n",
        "data2 = {\n",
        "    'key_data2': [3, 4, 5, 6, 7],\n",
        "    'Feature3': ['c1', 'c2', 'c3', 'c4', 'c5']\n",
        "}\n",
        "\n",
        "\n",
        "df1 = pd.DataFrame(data1)\n",
        "df2 = pd.DataFrame(data2)\n",
        "\n",
        "\n",
        "inner_join = pd.merge(df1, df2, left_on='key_data1', right_on='key_data2', how='inner')\n",
        "\n",
        "print(\"Inner Join:\")\n",
        "print(inner_join)"
      ]
    },
    {
      "cell_type": "code",
      "execution_count": null,
      "metadata": {
        "id": "iY3WHAS1Pds8"
      },
      "outputs": [],
      "source": [
        "# Gabungkan kedua data tersebut\n"
      ]
    },
    {
      "cell_type": "markdown",
      "metadata": {
        "id": "KP38kgIBCjco"
      },
      "source": [
        "Expected Result:\n",
        "\n",
        "![alt text](https://drive.google.com/uc?id=1uBiVOPnqns4al88FDc0ENIeTzIxP4wxH)"
      ]
    },
    {
      "cell_type": "markdown",
      "metadata": {
        "id": "oGvaOGEkPikI"
      },
      "source": [
        "\n",
        "\n",
        "---\n",
        "\n",
        "\n",
        "\n",
        "---\n",
        "\n"
      ]
    },
    {
      "cell_type": "markdown",
      "metadata": {
        "id": "rEXcThCVPl6d"
      },
      "source": [
        "# Data GroupBy"
      ]
    },
    {
      "cell_type": "markdown",
      "metadata": {
        "id": "oemegzfuP03X"
      },
      "source": [
        "<b>Note</b>: Pada kuis kali ini kita akan menggunakan data diamonds.csv yang bisa kalian download [disini](https://drive.google.com/uc?export=download&id=1qQiM9utQUThTPq8jk8stPMh_y2zfqYOd). setelah di download, kalian pindahkan data tersebut satu level dengan direktori file notebook ini."
      ]
    },
    {
      "cell_type": "code",
      "execution_count": null,
      "metadata": {
        "id": "YeSPq8BqPjbQ"
      },
      "outputs": [],
      "source": [
        "import pandas as pd\n",
        "df = pd.read_csv('diamonds.csv')\n",
        "df.drop('Unnamed: 0', axis=1, inplace=True)"
      ]
    },
    {
      "cell_type": "code",
      "execution_count": null,
      "metadata": {
        "id": "lA4SconBP8Yd"
      },
      "outputs": [],
      "source": [
        "df.head()"
      ]
    },
    {
      "cell_type": "markdown",
      "metadata": {
        "id": "meNu932TP_N0"
      },
      "source": [
        "Columns Metadata:\n",
        "\n",
        "carat: berat diamond\n",
        "\n",
        "cut: kualitas diamond\n",
        "\n",
        "color: warna diamond\n",
        "\n",
        "clarity: level kemurnian diamonds\n",
        "\n",
        "depth: tinggi dari diamond tabel\n",
        "\n",
        "table: lebar  dari diamond tabel\n",
        "\n",
        "price: harga diamond ($US)\n",
        "\n",
        "x: panjang\n",
        "\n",
        "y: lebar\n",
        "\n",
        "z: kedalaaman"
      ]
    },
    {
      "cell_type": "markdown",
      "metadata": {
        "id": "KXJAQzjMQHZr"
      },
      "source": [
        "<h2>Soal 5: Process Grouping</h2>\n",
        "\n",
        "Jelaskan prosess yang terjadi dalam grouping data menggungkan method <b>groupby()</b> dari pandas."
      ]
    },
    {
      "cell_type": "markdown",
      "metadata": {
        "id": "mvD-Jh1QQL3b"
      },
      "source": [
        "jawab: digunakan untuk mengelompokkan data berdasarkan nilai tertentu dalam satu atau lebih kolom\n",
        "proses: -Pemilihan Kolom,Pengelompokan,iterasi atau Aggregasi,hasil\n",
        "\n"
      ]
    },
    {
      "cell_type": "markdown",
      "metadata": {
        "id": "ArvG5cotQXdO"
      },
      "source": [
        "<h2>Soal 6: Grouping All Column</h2>\n",
        "    \n",
        "Group data diamond berdasarkan cut (kualitas), lakukan aggregasi dengan fungsi rata2.\n"
      ]
    },
    {
      "cell_type": "code",
      "execution_count": 4,
      "metadata": {
        "id": "2xo1Z1T4QDy_"
      },
      "outputs": [
        {
          "name": "stdout",
          "output_type": "stream",
          "text": [
            "cut\n",
            "Fair         4358.757764\n",
            "Good         3928.864452\n",
            "Ideal        3457.541970\n",
            "Premium      4584.257704\n",
            "Very Good    3981.759891\n",
            "Name: price, dtype: float64\n"
          ]
        }
      ],
      "source": [
        "#code here\n",
        "import pandas as pd\n",
        "\n",
        "# Baca dataset diamond\n",
        "diamonds = pd.read_csv('diamonds.csv')\n",
        "\n",
        "# Kelompokkan data berdasarkan kolom \"cut\" dan hitung rata-rata\n",
        "result = diamonds.groupby('cut')['price'].mean()\n",
        "\n",
        "# Tampilkan hasil aggregasi\n",
        "print(result)"
      ]
    },
    {
      "cell_type": "markdown",
      "metadata": {
        "id": "rG0-0_e7Qfwk"
      },
      "source": [
        "Expected Output:\n",
        "\n",
        "![alt text](https://drive.google.com/uc?id=1GKanuLzNv_pYBFVRBmQywxQw39uQBvSl)"
      ]
    },
    {
      "cell_type": "markdown",
      "metadata": {
        "id": "_TTqgal1QkUE"
      },
      "source": [
        "<h2>Soal 7: Grouping Some Column base on Multiple Criteria</h2>\n",
        "    \n",
        "Lakukan groupby pada data berdasarkan kriteria cut (kualitas) dan color (warna) secara berurutan, dengan aggregasi pada column carat, table, dan price saja. dengan fungsi agregasi rata-rata."
      ]
    },
    {
      "cell_type": "code",
      "execution_count": 5,
      "metadata": {
        "id": "kbzCkQnfQcUb"
      },
      "outputs": [
        {
          "name": "stdout",
          "output_type": "stream",
          "text": [
            "                    carat      table        price\n",
            "cut       color                                  \n",
            "Fair      D      0.920123  58.969325  4291.061350\n",
            "          E      0.856607  59.364732  3682.312500\n",
            "          F      0.904712  59.453205  3827.003205\n",
            "          G      1.023822  58.773248  4239.254777\n",
            "          H      1.219175  58.696370  5135.683168\n",
            "          I      1.198057  59.237143  4685.445714\n",
            "          J      1.341176  58.917647  4975.655462\n",
            "Good      D      0.744517  58.541541  3405.382175\n",
            "          E      0.745134  58.779957  3423.644159\n",
            "          F      0.775930  58.910891  3495.750275\n",
            "          G      0.850896  58.471986  4123.482204\n",
            "          H      0.914729  58.611111  4276.254986\n",
            "          I      1.057222  58.773946  5078.532567\n",
            "          J      1.099544  58.813029  4574.172638\n",
            "Ideal     D      0.565766  55.965632  2629.094566\n",
            "          E      0.578401  55.967461  2597.550090\n",
            "          F      0.655829  55.924203  3374.939362\n",
            "          G      0.700715  55.902375  3720.706388\n",
            "          H      0.799525  55.965843  3889.334831\n",
            "          I      0.913029  56.021357  4451.970377\n",
            "          J      1.063594  56.012612  4918.186384\n",
            "Premium   D      0.721547  58.718964  3631.292576\n",
            "          E      0.717745  58.779461  3538.914420\n",
            "          F      0.827036  58.679279  4324.890176\n",
            "          G      0.841488  58.702360  4500.742134\n",
            "          H      1.016449  58.792034  5216.706780\n",
            "          I      1.144937  58.771849  5946.180672\n",
            "          J      1.293094  58.874752  6294.591584\n",
            "Very Good D      0.696424  58.041309  3470.467284\n",
            "          E      0.676317  58.038875  3214.652083\n",
            "          F      0.740961  57.848429  3778.820240\n",
            "          G      0.766799  57.784428  3872.753806\n",
            "          H      0.915948  57.903015  4535.390351\n",
            "          I      1.046952  58.105150  5255.879568\n",
            "          J      1.133215  58.277729  5103.513274\n"
          ]
        }
      ],
      "source": [
        "#code here\n",
        "import pandas as pd\n",
        "\n",
        "\n",
        "diamonds = pd.read_csv('diamonds.csv')\n",
        "\n",
        "\n",
        "result = diamonds.groupby(['cut', 'color'])[['carat', 'table', 'price']].mean()\n",
        "\n",
        "\n",
        "print(result)"
      ]
    },
    {
      "cell_type": "markdown",
      "metadata": {
        "id": "a5SZYCkWQvDo"
      },
      "source": [
        "Expected Output:\n",
        "\n",
        "Note: gambar hanya sebagaian dari keseluruhan data\n",
        "\n",
        "![alt text](https://drive.google.com/uc?id=1XB_uHor7ZCPQUH9uQjSfd6aC6_yJnjh9)"
      ]
    },
    {
      "cell_type": "markdown",
      "metadata": {
        "id": "7pkvSYNHQ15o"
      },
      "source": [
        "<h2>Soal 8: Group By Multiple Aggregate Base on Multiple Criteria</h2>\n",
        "    \n",
        "Lakukan groupby pada data berdasarkan kriteria cut(kualitas) dan color (warna) secara berurutan kemudian aggregasi objek group by nya dengan fungsi rata2 dan median."
      ]
    },
    {
      "cell_type": "code",
      "execution_count": 6,
      "metadata": {
        "id": "k0ZUCMmWQz8D"
      },
      "outputs": [
        {
          "name": "stdout",
          "output_type": "stream",
          "text": [
            "                    carat             table               price        \n",
            "                     mean median       mean median         mean  median\n",
            "cut       color                                                        \n",
            "Fair      D      0.920123  0.900  58.969325   58.0  4291.061350  3730.0\n",
            "          E      0.856607  0.900  59.364732   59.0  3682.312500  2956.0\n",
            "          F      0.904712  0.900  59.453205   59.0  3827.003205  3035.0\n",
            "          G      1.023822  0.980  58.773248   58.0  4239.254777  3057.0\n",
            "          H      1.219175  1.010  58.696370   58.0  5135.683168  3816.0\n",
            "          I      1.198057  1.010  59.237143   58.0  4685.445714  3246.0\n",
            "          J      1.341176  1.030  58.917647   58.0  4975.655462  3302.0\n",
            "Good      D      0.744517  0.700  58.541541   58.0  3405.382175  2728.5\n",
            "          E      0.745134  0.700  58.779957   58.0  3423.644159  2420.0\n",
            "          F      0.775930  0.710  58.910891   59.0  3495.750275  2647.0\n",
            "          G      0.850896  0.900  58.471986   58.0  4123.482204  3340.0\n",
            "          H      0.914729  0.900  58.611111   58.0  4276.254986  3468.5\n",
            "          I      1.057222  1.000  58.773946   58.0  5078.532567  3639.5\n",
            "          J      1.099544  1.020  58.813029   58.0  4574.172638  3733.0\n",
            "Ideal     D      0.565766  0.500  55.965632   56.0  2629.094566  1576.0\n",
            "          E      0.578401  0.500  55.967461   56.0  2597.550090  1437.0\n",
            "          F      0.655829  0.530  55.924203   56.0  3374.939362  1775.0\n",
            "          G      0.700715  0.540  55.902375   56.0  3720.706388  1857.5\n",
            "          H      0.799525  0.700  55.965843   56.0  3889.334831  2278.0\n",
            "          I      0.913029  0.740  56.021357   56.0  4451.970377  2659.0\n",
            "          J      1.063594  1.030  56.012612   56.0  4918.186384  4096.0\n",
            "Premium   D      0.721547  0.580  58.718964   59.0  3631.292576  2009.0\n",
            "          E      0.717745  0.580  58.779461   59.0  3538.914420  1928.0\n",
            "          F      0.827036  0.760  58.679279   59.0  4324.890176  2841.0\n",
            "          G      0.841488  0.755  58.702360   59.0  4500.742134  2745.0\n",
            "          H      1.016449  1.010  58.792034   59.0  5216.706780  4511.0\n",
            "          I      1.144937  1.140  58.771849   59.0  5946.180672  4640.0\n",
            "          J      1.293094  1.250  58.874752   59.0  6294.591584  5063.0\n",
            "Very Good D      0.696424  0.610  58.041309   58.0  3470.467284  2310.0\n",
            "          E      0.676317  0.570  58.038875   58.0  3214.652083  1989.5\n",
            "          F      0.740961  0.700  57.848429   58.0  3778.820240  2471.0\n",
            "          G      0.766799  0.700  57.784428   58.0  3872.753806  2437.0\n",
            "          H      0.915948  0.900  57.903015   58.0  4535.390351  3734.0\n",
            "          I      1.046952  1.005  58.105150   58.0  5255.879568  3888.0\n",
            "          J      1.133215  1.060  58.277729   58.0  5103.513274  4113.0\n"
          ]
        }
      ],
      "source": [
        "#code here\n",
        "import pandas as pd\n",
        "\n",
        "# Baca dataset diamond\n",
        "diamonds = pd.read_csv('diamonds.csv')\n",
        "\n",
        "# Kelompokkan data berdasarkan kolom \"cut\" dan \"color\", lalu hitung rata-rata dan median kolom yang diperlukan\n",
        "grouped = diamonds.groupby(['cut', 'color'])[['carat', 'table', 'price']].agg(['mean', 'median'])\n",
        "\n",
        "# Tampilkan hasil aggregasi\n",
        "print(grouped)"
      ]
    },
    {
      "cell_type": "markdown",
      "metadata": {
        "id": "4FtwXivhQ9Ct"
      },
      "source": [
        "Expected Output:\n",
        "\n",
        "Note : gambar hanya sebagaian dari keseluruhan data\n",
        "\n",
        "![alt text](https://drive.google.com/uc?id=1fUPIse5ELrzj26ZyWBqsAVOUb6yf7UoD)"
      ]
    },
    {
      "cell_type": "markdown",
      "metadata": {
        "id": "KW4qVlZQRBAi"
      },
      "source": [
        "<h2>Soal 9: Group By With Different Aggregation for specific Column</h2>\n",
        "    \n",
        "Lakukan groupby pada data berdasarkan criteria cut(kualitas), kemudian aggreagate dengan fungsi max pada column price dan fungsi min pada column carat."
      ]
    },
    {
      "cell_type": "code",
      "execution_count": 7,
      "metadata": {
        "id": "v1oDVIq2Q_2n"
      },
      "outputs": [
        {
          "name": "stdout",
          "output_type": "stream",
          "text": [
            "                carat       table        price     \n",
            "                  max   min   max   min    max  min\n",
            "cut       color                                    \n",
            "Fair      D      3.40  0.25  73.0  52.0  16386  536\n",
            "          E      2.04  0.22  73.0  49.0  15584  337\n",
            "          F      2.58  0.25  95.0  50.0  17995  496\n",
            "          G      2.60  0.23  76.0  53.0  18574  369\n",
            "          H      4.13  0.33  73.0  50.0  18565  659\n",
            "          I      3.02  0.41  70.0  49.0  18242  735\n",
            "          J      5.01  0.30  68.0  52.0  18531  416\n",
            "Good      D      2.04  0.23  66.0  52.0  18468  361\n",
            "          E      3.00  0.23  65.0  53.0  18236  327\n",
            "          F      2.67  0.23  66.0  52.0  18686  357\n",
            "          G      2.80  0.23  66.0  53.0  18788  394\n",
            "          H      3.01  0.25  65.0  51.0  18640  368\n",
            "          I      3.01  0.30  66.0  51.0  18707  351\n",
            "          J      3.00  0.28  65.0  52.0  18325  335\n",
            "Ideal     D      2.75  0.20  62.0  52.0  18693  367\n",
            "          E      2.28  0.20  62.0  52.0  18729  326\n",
            "          F      2.45  0.23  63.0  52.4  18780  408\n",
            "          G      2.54  0.23  62.0  52.0  18806  361\n",
            "          H      3.50  0.23  62.0  52.0  18760  357\n",
            "          I      3.22  0.23  62.0  43.0  18779  348\n",
            "          J      3.01  0.23  62.0  53.0  18508  340\n",
            "Premium   D      2.57  0.20  62.0  52.0  18575  367\n",
            "          E      3.05  0.20  62.0  52.0  18477  326\n",
            "          F      3.01  0.20  62.0  51.0  18791  342\n",
            "          G      3.01  0.23  62.0  52.0  18741  382\n",
            "          H      3.24  0.23  62.0  51.0  18795  368\n",
            "          I      4.01  0.23  62.0  52.0  18823  334\n",
            "          J      4.01  0.30  62.0  54.0  18710  363\n",
            "Very Good D      2.58  0.23  64.0  52.0  18542  357\n",
            "          E      2.51  0.20  65.0  44.0  18731  352\n",
            "          F      2.48  0.23  65.0  52.0  18777  357\n",
            "          G      2.52  0.23  66.0  52.0  18818  354\n",
            "          H      3.00  0.23  65.0  52.0  18803  337\n",
            "          I      4.00  0.24  65.0  52.0  18500  336\n",
            "          J      2.74  0.24  63.0  51.6  18430  336\n"
          ]
        }
      ],
      "source": [
        "#code here\n",
        "#code here\n",
        "import pandas as pd\n",
        "\n",
        "# Baca dataset diamond\n",
        "diamonds = pd.read_csv('diamonds.csv')\n",
        "\n",
        "# Kelompokkan data berdasarkan kolom \"cut\" dan \"color\", lalu hitung rata-rata dan median kolom yang diperlukan\n",
        "grouped = diamonds.groupby(['cut', 'color'])[['carat', 'table', 'price']].agg(['max', 'min'])\n",
        "\n",
        "# Tampilkan hasil aggregasi\n",
        "print(grouped)"
      ]
    },
    {
      "cell_type": "markdown",
      "metadata": {
        "id": "b6gVroUXRPcG"
      },
      "source": [
        "Expected Output:\n",
        "\n",
        "![alt text](https://drive.google.com/uc?id=1B_z5PBkLe4hNJJJV3JgDGP9G--llytKf)"
      ]
    },
    {
      "cell_type": "markdown",
      "metadata": {
        "id": "dZUS7KJkRRCK"
      },
      "source": [
        "<h2>Soal 10: Group By With Custom Function</h2>\n",
        "    \n",
        "Lakukan groupby pada data berdasarkan criteria cut(kualitas), kemudian lakukan aggregasi dengan fungsi standar deviasi pada column carat dan fungsi rentang nilai antara max dan min pada column price."
      ]
    },
    {
      "cell_type": "code",
      "execution_count": 9,
      "metadata": {
        "id": "ia_focmHRQCL"
      },
      "outputs": [
        {
          "name": "stdout",
          "output_type": "stream",
          "text": [
            "              carat             table               price        \n",
            "               mean median       mean median         mean  median\n",
            "cut                                                              \n",
            "Fair       1.046137   1.00  59.053789   58.0  4358.757764  3282.0\n",
            "Good       0.849185   0.82  58.694639   58.0  3928.864452  3050.5\n",
            "Ideal      0.702837   0.54  55.951668   56.0  3457.541970  1810.0\n",
            "Premium    0.891955   0.86  58.746095   59.0  4584.257704  3185.0\n",
            "Very Good  0.806381   0.71  57.956150   58.0  3981.759891  2648.0\n"
          ]
        }
      ],
      "source": [
        "#code here\n",
        "#code here\n",
        "import pandas as pd\n",
        "\n",
        "# Baca dataset diamond\n",
        "diamonds = pd.read_csv('diamonds.csv')\n",
        "\n",
        "# Kelompokkan data berdasarkan kolom \"cut\" dan \"color\", lalu hitung rata-rata dan median kolom yang diperlukan\n",
        "grouped = diamonds.groupby(['cut'])[['carat', 'table', 'price']].agg(['mean', 'median'])\n",
        "\n",
        "# Tampilkan hasil aggregasi\n",
        "print(grouped)"
      ]
    },
    {
      "cell_type": "markdown",
      "metadata": {
        "id": "9zXQxOdgRYD8"
      },
      "source": [
        "Expected Output:\n",
        "\n",
        "![alt text](https://drive.google.com/uc?id=1bl6_8KryXCxLfzpAf4YF80Qvt15a3uQ6)"
      ]
    },
    {
      "cell_type": "markdown",
      "metadata": {
        "id": "T5S8H2xmRd1a"
      },
      "source": [
        "\n",
        "\n",
        "---\n",
        "\n",
        "\n",
        "\n",
        "---\n",
        "\n"
      ]
    }
  ],
  "metadata": {
    "accelerator": "GPU",
    "colab": {
      "collapsed_sections": [],
      "name": "Tugas Hari 4 Pekan 2.ipynb",
      "provenance": []
    },
    "kernelspec": {
      "display_name": "Python 3",
      "language": "python",
      "name": "python3"
    },
    "language_info": {
      "codemirror_mode": {
        "name": "ipython",
        "version": 3
      },
      "file_extension": ".py",
      "mimetype": "text/x-python",
      "name": "python",
      "nbconvert_exporter": "python",
      "pygments_lexer": "ipython3",
      "version": "3.10.6"
    }
  },
  "nbformat": 4,
  "nbformat_minor": 0
}
